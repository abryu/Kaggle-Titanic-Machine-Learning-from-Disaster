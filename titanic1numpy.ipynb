{
 "cells": [
  {
   "cell_type": "code",
   "execution_count": 3,
   "metadata": {
    "collapsed": true
   },
   "outputs": [],
   "source": [
    "import numpy as np\n",
    "import csv as csv"
   ]
  },
  {
   "cell_type": "code",
   "execution_count": 41,
   "metadata": {
    "collapsed": false
   },
   "outputs": [],
   "source": [
    "csvf = open('train.csv','rb')\n",
    "csv_file = csv.reader(csvf)\n",
    "csv_file.next()\n",
    "data = []\n",
    "for eachrow in csv_file:\n",
    "    data.append(eachrow)\n",
    "data = np.array(data)\n",
    "# print data[0:1]\n",
    "\n"
   ]
  },
  {
   "cell_type": "code",
   "execution_count": 42,
   "metadata": {
    "collapsed": false
   },
   "outputs": [
    {
     "data": {
      "text/plain": [
       "numpy.string_"
      ]
     },
     "execution_count": 42,
     "metadata": {},
     "output_type": "execute_result"
    }
   ],
   "source": [
    "data[0::,2].astype(np.float)\n",
    "type(data[1,2])"
   ]
  },
  {
   "cell_type": "code",
   "execution_count": 43,
   "metadata": {
    "collapsed": false
   },
   "outputs": [
    {
     "name": "stdout",
     "output_type": "stream",
     "text": [
      "0.383838383838\n"
     ]
    }
   ],
   "source": [
    "num_of_passanger = np.size(data[0::,1].astype(np.float))\n",
    "num_of_survived = np.sum(data[0::,1].astype(np.float))\n",
    "proportion_survivors = num_of_survived / num_of_passanger\n",
    "print proportion_survivors"
   ]
  },
  {
   "cell_type": "code",
   "execution_count": 50,
   "metadata": {
    "collapsed": false
   },
   "outputs": [
    {
     "name": "stdout",
     "output_type": "stream",
     "text": [
      "0.742038216561 0.188908145581\n"
     ]
    }
   ],
   "source": [
    "women_only_stats = data[0::,4] == \"female\"\n",
    "men_only_stats = data[0::,4] == \"male\"\n",
    "\n",
    "women_onboard = data[women_only_stats,1].astype(np.float)\n",
    "men_onboard = data[men_only_stats,1].astype(np.float)\n",
    "\n",
    "prop_women_survived = np.sum(women_onboard) / np.size(women_onboard)\n",
    "prop_men_survived = np.sum(men_onboard) / np.size(men_onboard)\n",
    "\n",
    "print prop_women_survived,prop_men_survived\n",
    "\n",
    "csvf.close()"
   ]
  },
  {
   "cell_type": "code",
   "execution_count": 51,
   "metadata": {
    "collapsed": false
   },
   "outputs": [
    {
     "data": {
      "text/plain": [
       "['PassengerId',\n",
       " 'Pclass',\n",
       " 'Name',\n",
       " 'Sex',\n",
       " 'Age',\n",
       " 'SibSp',\n",
       " 'Parch',\n",
       " 'Ticket',\n",
       " 'Fare',\n",
       " 'Cabin',\n",
       " 'Embarked']"
      ]
     },
     "execution_count": 51,
     "metadata": {},
     "output_type": "execute_result"
    }
   ],
   "source": [
    "test_file = open('test.csv', 'rb')\n",
    "test_file_object = csv.reader(test_file)\n",
    "test_file_object.next()"
   ]
  },
  {
   "cell_type": "code",
   "execution_count": 52,
   "metadata": {
    "collapsed": true
   },
   "outputs": [],
   "source": [
    "prediction_file = open(\"genderbasedmodel.csv\", \"wb\")\n",
    "prediction_file_object = csv.writer(prediction_file)\n",
    "prediction_file_object.writerow([\"PassengerId\", \"Survived\"])"
   ]
  },
  {
   "cell_type": "code",
   "execution_count": 53,
   "metadata": {
    "collapsed": false
   },
   "outputs": [],
   "source": [
    "for eachrow in test_file_object:\n",
    "    if eachrow[3] == \"female\":\n",
    "        prediction_file_object.writerow([eachrow[0],'1'])\n",
    "    else:\n",
    "        prediction_file_object.writerow([eachrow[0],'0'])\n",
    "        "
   ]
  },
  {
   "cell_type": "code",
   "execution_count": 54,
   "metadata": {
    "collapsed": false
   },
   "outputs": [],
   "source": [
    "test_file.close()\n",
    "prediction_file.close()"
   ]
  },
  {
   "cell_type": "code",
   "execution_count": null,
   "metadata": {
    "collapsed": true
   },
   "outputs": [],
   "source": []
  },
  {
   "cell_type": "code",
   "execution_count": null,
   "metadata": {
    "collapsed": true
   },
   "outputs": [],
   "source": []
  }
 ],
 "metadata": {
  "kernelspec": {
   "display_name": "Python 2",
   "language": "python",
   "name": "python2"
  },
  "language_info": {
   "codemirror_mode": {
    "name": "ipython",
    "version": 2
   },
   "file_extension": ".py",
   "mimetype": "text/x-python",
   "name": "python",
   "nbconvert_exporter": "python",
   "pygments_lexer": "ipython2",
   "version": "2.7.11"
  }
 },
 "nbformat": 4,
 "nbformat_minor": 0
}
